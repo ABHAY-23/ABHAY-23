{
 "cells": [
  {
   "cell_type": "markdown",
   "id": "df716fa3",
   "metadata": {},
   "source": [
    "# A Complete Guide to Numpy"
   ]
  },
  {
   "cell_type": "code",
   "execution_count": 2,
   "id": "ce9118b2",
   "metadata": {},
   "outputs": [],
   "source": [
    "import numpy as np # linear algebra\n",
    "import pandas as pd # data processing, CSV file I/O (e.g. pd.read_csv)\n",
    "import os           # for dirname, _, filenames in os.walk('/kaggle/input'):"
   ]
  },
  {
   "cell_type": "code",
   "execution_count": 4,
   "id": "b9cc559d",
   "metadata": {},
   "outputs": [
    {
     "data": {
      "text/html": [
       "<div>\n",
       "<style scoped>\n",
       "    .dataframe tbody tr th:only-of-type {\n",
       "        vertical-align: middle;\n",
       "    }\n",
       "\n",
       "    .dataframe tbody tr th {\n",
       "        vertical-align: top;\n",
       "    }\n",
       "\n",
       "    .dataframe thead th {\n",
       "        text-align: right;\n",
       "    }\n",
       "</style>\n",
       "<table border=\"1\" class=\"dataframe\">\n",
       "  <thead>\n",
       "    <tr style=\"text-align: right;\">\n",
       "      <th></th>\n",
       "      <th>PassengerId</th>\n",
       "      <th>Survived</th>\n",
       "      <th>Pclass</th>\n",
       "      <th>Name</th>\n",
       "      <th>Sex</th>\n",
       "      <th>Age</th>\n",
       "      <th>SibSp</th>\n",
       "      <th>Parch</th>\n",
       "      <th>Ticket</th>\n",
       "      <th>Fare</th>\n",
       "      <th>Cabin</th>\n",
       "      <th>Embarked</th>\n",
       "    </tr>\n",
       "  </thead>\n",
       "  <tbody>\n",
       "    <tr>\n",
       "      <th>0</th>\n",
       "      <td>1</td>\n",
       "      <td>0</td>\n",
       "      <td>3</td>\n",
       "      <td>Braund, Mr. Owen Harris</td>\n",
       "      <td>male</td>\n",
       "      <td>22.0</td>\n",
       "      <td>1</td>\n",
       "      <td>0</td>\n",
       "      <td>A/5 21171</td>\n",
       "      <td>7.2500</td>\n",
       "      <td>NaN</td>\n",
       "      <td>S</td>\n",
       "    </tr>\n",
       "    <tr>\n",
       "      <th>1</th>\n",
       "      <td>2</td>\n",
       "      <td>1</td>\n",
       "      <td>1</td>\n",
       "      <td>Cumings, Mrs. John Bradley (Florence Briggs Th...</td>\n",
       "      <td>female</td>\n",
       "      <td>38.0</td>\n",
       "      <td>1</td>\n",
       "      <td>0</td>\n",
       "      <td>PC 17599</td>\n",
       "      <td>71.2833</td>\n",
       "      <td>C85</td>\n",
       "      <td>C</td>\n",
       "    </tr>\n",
       "    <tr>\n",
       "      <th>2</th>\n",
       "      <td>3</td>\n",
       "      <td>1</td>\n",
       "      <td>3</td>\n",
       "      <td>Heikkinen, Miss. Laina</td>\n",
       "      <td>female</td>\n",
       "      <td>26.0</td>\n",
       "      <td>0</td>\n",
       "      <td>0</td>\n",
       "      <td>STON/O2. 3101282</td>\n",
       "      <td>7.9250</td>\n",
       "      <td>NaN</td>\n",
       "      <td>S</td>\n",
       "    </tr>\n",
       "    <tr>\n",
       "      <th>3</th>\n",
       "      <td>4</td>\n",
       "      <td>1</td>\n",
       "      <td>1</td>\n",
       "      <td>Futrelle, Mrs. Jacques Heath (Lily May Peel)</td>\n",
       "      <td>female</td>\n",
       "      <td>35.0</td>\n",
       "      <td>1</td>\n",
       "      <td>0</td>\n",
       "      <td>113803</td>\n",
       "      <td>53.1000</td>\n",
       "      <td>C123</td>\n",
       "      <td>S</td>\n",
       "    </tr>\n",
       "    <tr>\n",
       "      <th>4</th>\n",
       "      <td>5</td>\n",
       "      <td>0</td>\n",
       "      <td>3</td>\n",
       "      <td>Allen, Mr. William Henry</td>\n",
       "      <td>male</td>\n",
       "      <td>35.0</td>\n",
       "      <td>0</td>\n",
       "      <td>0</td>\n",
       "      <td>373450</td>\n",
       "      <td>8.0500</td>\n",
       "      <td>NaN</td>\n",
       "      <td>S</td>\n",
       "    </tr>\n",
       "  </tbody>\n",
       "</table>\n",
       "</div>"
      ],
      "text/plain": [
       "   PassengerId  Survived  Pclass  \\\n",
       "0            1         0       3   \n",
       "1            2         1       1   \n",
       "2            3         1       3   \n",
       "3            4         1       1   \n",
       "4            5         0       3   \n",
       "\n",
       "                                                Name     Sex   Age  SibSp  \\\n",
       "0                            Braund, Mr. Owen Harris    male  22.0      1   \n",
       "1  Cumings, Mrs. John Bradley (Florence Briggs Th...  female  38.0      1   \n",
       "2                             Heikkinen, Miss. Laina  female  26.0      0   \n",
       "3       Futrelle, Mrs. Jacques Heath (Lily May Peel)  female  35.0      1   \n",
       "4                           Allen, Mr. William Henry    male  35.0      0   \n",
       "\n",
       "   Parch            Ticket     Fare Cabin Embarked  \n",
       "0      0         A/5 21171   7.2500   NaN        S  \n",
       "1      0          PC 17599  71.2833   C85        C  \n",
       "2      0  STON/O2. 3101282   7.9250   NaN        S  \n",
       "3      0            113803  53.1000  C123        S  \n",
       "4      0            373450   8.0500   NaN        S  "
      ]
     },
     "execution_count": 4,
     "metadata": {},
     "output_type": "execute_result"
    }
   ],
   "source": [
    "train=pd.read_csv(r\"D:/train.csv\")\n",
    "df=train.copy()\n",
    "df.head()\n"
   ]
  },
  {
   "cell_type": "code",
   "execution_count": 5,
   "id": "a8515938",
   "metadata": {},
   "outputs": [
    {
     "data": {
      "text/html": [
       "<div>\n",
       "<style scoped>\n",
       "    .dataframe tbody tr th:only-of-type {\n",
       "        vertical-align: middle;\n",
       "    }\n",
       "\n",
       "    .dataframe tbody tr th {\n",
       "        vertical-align: top;\n",
       "    }\n",
       "\n",
       "    .dataframe thead th {\n",
       "        text-align: right;\n",
       "    }\n",
       "</style>\n",
       "<table border=\"1\" class=\"dataframe\">\n",
       "  <thead>\n",
       "    <tr style=\"text-align: right;\">\n",
       "      <th></th>\n",
       "      <th>PassengerId</th>\n",
       "      <th>Survived</th>\n",
       "      <th>Pclass</th>\n",
       "      <th>Name</th>\n",
       "      <th>Sex</th>\n",
       "      <th>Age</th>\n",
       "      <th>SibSp</th>\n",
       "      <th>Parch</th>\n",
       "      <th>Ticket</th>\n",
       "      <th>Fare</th>\n",
       "      <th>Cabin</th>\n",
       "      <th>Embarked</th>\n",
       "    </tr>\n",
       "  </thead>\n",
       "  <tbody>\n",
       "    <tr>\n",
       "      <th>886</th>\n",
       "      <td>887</td>\n",
       "      <td>0</td>\n",
       "      <td>2</td>\n",
       "      <td>Montvila, Rev. Juozas</td>\n",
       "      <td>male</td>\n",
       "      <td>27.0</td>\n",
       "      <td>0</td>\n",
       "      <td>0</td>\n",
       "      <td>211536</td>\n",
       "      <td>13.00</td>\n",
       "      <td>NaN</td>\n",
       "      <td>S</td>\n",
       "    </tr>\n",
       "    <tr>\n",
       "      <th>887</th>\n",
       "      <td>888</td>\n",
       "      <td>1</td>\n",
       "      <td>1</td>\n",
       "      <td>Graham, Miss. Margaret Edith</td>\n",
       "      <td>female</td>\n",
       "      <td>19.0</td>\n",
       "      <td>0</td>\n",
       "      <td>0</td>\n",
       "      <td>112053</td>\n",
       "      <td>30.00</td>\n",
       "      <td>B42</td>\n",
       "      <td>S</td>\n",
       "    </tr>\n",
       "    <tr>\n",
       "      <th>888</th>\n",
       "      <td>889</td>\n",
       "      <td>0</td>\n",
       "      <td>3</td>\n",
       "      <td>Johnston, Miss. Catherine Helen \"Carrie\"</td>\n",
       "      <td>female</td>\n",
       "      <td>NaN</td>\n",
       "      <td>1</td>\n",
       "      <td>2</td>\n",
       "      <td>W./C. 6607</td>\n",
       "      <td>23.45</td>\n",
       "      <td>NaN</td>\n",
       "      <td>S</td>\n",
       "    </tr>\n",
       "    <tr>\n",
       "      <th>889</th>\n",
       "      <td>890</td>\n",
       "      <td>1</td>\n",
       "      <td>1</td>\n",
       "      <td>Behr, Mr. Karl Howell</td>\n",
       "      <td>male</td>\n",
       "      <td>26.0</td>\n",
       "      <td>0</td>\n",
       "      <td>0</td>\n",
       "      <td>111369</td>\n",
       "      <td>30.00</td>\n",
       "      <td>C148</td>\n",
       "      <td>C</td>\n",
       "    </tr>\n",
       "    <tr>\n",
       "      <th>890</th>\n",
       "      <td>891</td>\n",
       "      <td>0</td>\n",
       "      <td>3</td>\n",
       "      <td>Dooley, Mr. Patrick</td>\n",
       "      <td>male</td>\n",
       "      <td>32.0</td>\n",
       "      <td>0</td>\n",
       "      <td>0</td>\n",
       "      <td>370376</td>\n",
       "      <td>7.75</td>\n",
       "      <td>NaN</td>\n",
       "      <td>Q</td>\n",
       "    </tr>\n",
       "  </tbody>\n",
       "</table>\n",
       "</div>"
      ],
      "text/plain": [
       "     PassengerId  Survived  Pclass                                      Name  \\\n",
       "886          887         0       2                     Montvila, Rev. Juozas   \n",
       "887          888         1       1              Graham, Miss. Margaret Edith   \n",
       "888          889         0       3  Johnston, Miss. Catherine Helen \"Carrie\"   \n",
       "889          890         1       1                     Behr, Mr. Karl Howell   \n",
       "890          891         0       3                       Dooley, Mr. Patrick   \n",
       "\n",
       "        Sex   Age  SibSp  Parch      Ticket   Fare Cabin Embarked  \n",
       "886    male  27.0      0      0      211536  13.00   NaN        S  \n",
       "887  female  19.0      0      0      112053  30.00   B42        S  \n",
       "888  female   NaN      1      2  W./C. 6607  23.45   NaN        S  \n",
       "889    male  26.0      0      0      111369  30.00  C148        C  \n",
       "890    male  32.0      0      0      370376   7.75   NaN        Q  "
      ]
     },
     "execution_count": 5,
     "metadata": {},
     "output_type": "execute_result"
    }
   ],
   "source": [
    "df.tail()"
   ]
  },
  {
   "cell_type": "markdown",
   "id": "2afe5f56",
   "metadata": {},
   "source": [
    "# 1. Creating a Numpy array\n"
   ]
  },
  {
   "cell_type": "code",
   "execution_count": 6,
   "id": "ab30b617",
   "metadata": {},
   "outputs": [
    {
     "data": {
      "text/plain": [
       "array([[6.23042070e-307, 4.67296746e-307],\n",
       "       [1.69121096e-306, 6.23058707e-307],\n",
       "       [2.22526399e-307, 6.23053614e-307],\n",
       "       [7.56592338e-307, 1.21378159e-311]])"
      ]
     },
     "execution_count": 6,
     "metadata": {},
     "output_type": "execute_result"
    }
   ],
   "source": [
    "# Empty array. Note the values are randomly initialized.\n",
    "emp=np.empty((4,2))\n",
    "emp\n"
   ]
  },
  {
   "cell_type": "code",
   "execution_count": 7,
   "id": "f5ea19db",
   "metadata": {},
   "outputs": [
    {
     "name": "stdout",
     "output_type": "stream",
     "text": [
      "(3,)\n"
     ]
    },
    {
     "data": {
      "text/plain": [
       "array([1, 2, 3])"
      ]
     },
     "execution_count": 7,
     "metadata": {},
     "output_type": "execute_result"
    }
   ],
   "source": [
    "# Creating numpy array from array.\n",
    "arr=np.array([1,2,3])\n",
    "print(arr.shape)\n",
    "arr"
   ]
  },
  {
   "cell_type": "code",
   "execution_count": 8,
   "id": "6b784092",
   "metadata": {},
   "outputs": [
    {
     "name": "stdout",
     "output_type": "stream",
     "text": [
      "(2, 3)\n"
     ]
    },
    {
     "data": {
      "text/plain": [
       "array([[1, 4, 3],\n",
       "       [2, 4, 6]])"
      ]
     },
     "execution_count": 8,
     "metadata": {},
     "output_type": "execute_result"
    }
   ],
   "source": [
    "#Creating 2-D array\n",
    "arr2=np.array([[1,4,3],[2,4,6]])\n",
    "print(arr2.shape)\n",
    "arr2"
   ]
  },
  {
   "cell_type": "markdown",
   "id": "91e7100e",
   "metadata": {},
   "source": [
    "To check number of dimesnsions in numpy array, use '.ndim' attribute:"
   ]
  },
  {
   "cell_type": "code",
   "execution_count": 9,
   "id": "4873aac2",
   "metadata": {},
   "outputs": [
    {
     "data": {
      "text/plain": [
       "2"
      ]
     },
     "execution_count": 9,
     "metadata": {},
     "output_type": "execute_result"
    }
   ],
   "source": [
    "arr2.ndim"
   ]
  },
  {
   "cell_type": "markdown",
   "id": "a27c8890",
   "metadata": {},
   "source": [
    "# 2. The Basics\n"
   ]
  },
  {
   "cell_type": "markdown",
   "id": "1f94b406",
   "metadata": {},
   "source": [
    "some basic attributes and operations of a numpy array."
   ]
  },
  {
   "cell_type": "code",
   "execution_count": 10,
   "id": "95e5a91a",
   "metadata": {},
   "outputs": [
    {
     "data": {
      "text/plain": [
       "array([[2, 3, 4],\n",
       "       [7, 3, 1],\n",
       "       [2, 5, 6],\n",
       "       [5, 1, 2]])"
      ]
     },
     "execution_count": 10,
     "metadata": {},
     "output_type": "execute_result"
    }
   ],
   "source": [
    "arr=np.array([[2,3,4],[7,3,1],[2,5,6],[5,1,2]])\n",
    "arr"
   ]
  },
  {
   "cell_type": "code",
   "execution_count": 11,
   "id": "154a6281",
   "metadata": {},
   "outputs": [
    {
     "data": {
      "text/plain": [
       "(4, 3)"
      ]
     },
     "execution_count": 11,
     "metadata": {},
     "output_type": "execute_result"
    }
   ],
   "source": [
    "# Shape of a numpy array\n",
    "arr.shape"
   ]
  },
  {
   "cell_type": "code",
   "execution_count": 12,
   "id": "5bddb79b",
   "metadata": {},
   "outputs": [
    {
     "data": {
      "text/plain": [
       "array([[2, 3, 4, 7],\n",
       "       [3, 1, 2, 5],\n",
       "       [6, 5, 1, 2]])"
      ]
     },
     "execution_count": 12,
     "metadata": {},
     "output_type": "execute_result"
    }
   ],
   "source": [
    "# Resize a numpy array\n",
    "arr2=arr.reshape(3,4)\n",
    "arr2"
   ]
  },
  {
   "cell_type": "code",
   "execution_count": 13,
   "id": "108a6ce6",
   "metadata": {},
   "outputs": [
    {
     "data": {
      "text/plain": [
       "(6, 2)"
      ]
     },
     "execution_count": 13,
     "metadata": {},
     "output_type": "execute_result"
    }
   ],
   "source": [
    "# Reshaping with only one dimension known.\n",
    "arr3=arr.reshape(-1,2)\n",
    "arr3.shape"
   ]
  },
  {
   "cell_type": "code",
   "execution_count": 14,
   "id": "c87aaf7e",
   "metadata": {},
   "outputs": [
    {
     "name": "stdout",
     "output_type": "stream",
     "text": [
      "[[2 3 4]\n",
      " [7 3 1]\n",
      " [2 5 6]\n",
      " [5 1 2]]\n"
     ]
    },
    {
     "data": {
      "text/plain": [
       "2"
      ]
     },
     "execution_count": 14,
     "metadata": {},
     "output_type": "execute_result"
    }
   ],
   "source": [
    "# Dimensions of an array\n",
    "print(arr)\n",
    "arr.ndim"
   ]
  },
  {
   "cell_type": "code",
   "execution_count": 15,
   "id": "054f4b5c",
   "metadata": {},
   "outputs": [
    {
     "name": "stdout",
     "output_type": "stream",
     "text": [
      "int32\n"
     ]
    },
    {
     "data": {
      "text/plain": [
       "4"
      ]
     },
     "execution_count": 15,
     "metadata": {},
     "output_type": "execute_result"
    }
   ],
   "source": [
    "# Size of each element in bytes\n",
    "print(arr.dtype)\n",
    "arr.itemsize #(64/8=8bytes)"
   ]
  },
  {
   "cell_type": "code",
   "execution_count": 16,
   "id": "8a41b9d3",
   "metadata": {},
   "outputs": [
    {
     "name": "stdout",
     "output_type": "stream",
     "text": [
      "int16\n"
     ]
    },
    {
     "data": {
      "text/plain": [
       "2"
      ]
     },
     "execution_count": 16,
     "metadata": {},
     "output_type": "execute_result"
    }
   ],
   "source": [
    "# Lets try with int 16\n",
    "arr=arr.astype('int16') # now this will be 2 bytes. (16/8=2bytes)\n",
    "print(arr.dtype)\n",
    "arr.itemsize"
   ]
  },
  {
   "cell_type": "markdown",
   "id": "573df263",
   "metadata": {},
   "source": [
    "# 3. Some Standard Matrices"
   ]
  },
  {
   "cell_type": "markdown",
   "id": "2ef49dca",
   "metadata": {},
   "source": [
    "Matrix of all zeros"
   ]
  },
  {
   "cell_type": "code",
   "execution_count": 17,
   "id": "f9b0bfa9",
   "metadata": {},
   "outputs": [
    {
     "data": {
      "text/plain": [
       "array([[0., 0., 0.],\n",
       "       [0., 0., 0.]])"
      ]
     },
     "execution_count": 17,
     "metadata": {},
     "output_type": "execute_result"
    }
   ],
   "source": [
    "zeros=np.zeros((2,3))\n",
    "zeros"
   ]
  },
  {
   "cell_type": "markdown",
   "id": "629710b5",
   "metadata": {},
   "source": [
    "Matrix of all ones"
   ]
  },
  {
   "cell_type": "code",
   "execution_count": 18,
   "id": "400f7d12",
   "metadata": {},
   "outputs": [
    {
     "data": {
      "text/plain": [
       "array([[1., 1.],\n",
       "       [1., 1.],\n",
       "       [1., 1.]])"
      ]
     },
     "execution_count": 18,
     "metadata": {},
     "output_type": "execute_result"
    }
   ],
   "source": [
    "#ones\n",
    "ones=np.ones((3,2))\n",
    "ones"
   ]
  },
  {
   "cell_type": "markdown",
   "id": "5c66f2ac",
   "metadata": {},
   "source": [
    "Matrix initialised with some constant value."
   ]
  },
  {
   "cell_type": "code",
   "execution_count": 19,
   "id": "2f1dcbef",
   "metadata": {},
   "outputs": [
    {
     "data": {
      "text/plain": [
       "array([[9, 9, 9],\n",
       "       [9, 9, 9]])"
      ]
     },
     "execution_count": 19,
     "metadata": {},
     "output_type": "execute_result"
    }
   ],
   "source": [
    "# From some constant value\n",
    "full=np.full((2,3),9)\n",
    "full"
   ]
  },
  {
   "cell_type": "markdown",
   "id": "e2b47709",
   "metadata": {},
   "source": [
    "Identity Matrix\n"
   ]
  },
  {
   "cell_type": "code",
   "execution_count": 20,
   "id": "0f6f722e",
   "metadata": {},
   "outputs": [
    {
     "data": {
      "text/plain": [
       "array([[1., 0., 0.],\n",
       "       [0., 1., 0.],\n",
       "       [0., 0., 1.]])"
      ]
     },
     "execution_count": 20,
     "metadata": {},
     "output_type": "execute_result"
    }
   ],
   "source": [
    "order=3\n",
    "I=np.eye(order)\n",
    "I"
   ]
  },
  {
   "cell_type": "markdown",
   "id": "494d9dc6",
   "metadata": {},
   "source": [
    "# 4. Indexing and Slicing"
   ]
  },
  {
   "cell_type": "code",
   "execution_count": 21,
   "id": "3eab1706",
   "metadata": {},
   "outputs": [
    {
     "data": {
      "text/plain": [
       "array([[1, 2, 3],\n",
       "       [5, 7, 6],\n",
       "       [2, 4, 9]])"
      ]
     },
     "execution_count": 21,
     "metadata": {},
     "output_type": "execute_result"
    }
   ],
   "source": [
    "arr=np.array([[1,2,3],[5,7,6],[2,4,9]])\n",
    "arr"
   ]
  },
  {
   "cell_type": "code",
   "execution_count": 22,
   "id": "069dd39f",
   "metadata": {},
   "outputs": [
    {
     "data": {
      "text/plain": [
       "array([1, 2, 3])"
      ]
     },
     "execution_count": 22,
     "metadata": {},
     "output_type": "execute_result"
    }
   ],
   "source": [
    "# First element\n",
    "arr[0]"
   ]
  },
  {
   "cell_type": "code",
   "execution_count": 23,
   "id": "f90367d3",
   "metadata": {},
   "outputs": [
    {
     "data": {
      "text/plain": [
       "6"
      ]
     },
     "execution_count": 23,
     "metadata": {},
     "output_type": "execute_result"
    }
   ],
   "source": [
    "# third element in second row\n",
    "arr[1,2]"
   ]
  },
  {
   "cell_type": "markdown",
   "id": "c193fdaa",
   "metadata": {},
   "source": [
    "Slicing"
   ]
  },
  {
   "cell_type": "code",
   "execution_count": 24,
   "id": "9be0564f",
   "metadata": {},
   "outputs": [
    {
     "data": {
      "text/plain": [
       "array([[5, 7, 6],\n",
       "       [2, 4, 9]])"
      ]
     },
     "execution_count": 24,
     "metadata": {},
     "output_type": "execute_result"
    }
   ],
   "source": [
    "# All but 1st element(0 based indexing)\n",
    "arr[1:]"
   ]
  },
  {
   "cell_type": "code",
   "execution_count": 25,
   "id": "87f588a9",
   "metadata": {},
   "outputs": [
    {
     "data": {
      "text/plain": [
       "array([[2, 3],\n",
       "       [7, 6],\n",
       "       [4, 9]])"
      ]
     },
     "execution_count": 25,
     "metadata": {},
     "output_type": "execute_result"
    }
   ],
   "source": [
    "# All but first element of every row\n",
    "arr[:,1:]"
   ]
  },
  {
   "cell_type": "code",
   "execution_count": 26,
   "id": "1c97fb3b",
   "metadata": {},
   "outputs": [
    {
     "data": {
      "text/plain": [
       "array([2, 4, 9])"
      ]
     },
     "execution_count": 26,
     "metadata": {},
     "output_type": "execute_result"
    }
   ],
   "source": [
    "# Negative Indices. this one gives last element.\n",
    "arr[-1]"
   ]
  },
  {
   "cell_type": "code",
   "execution_count": 27,
   "id": "58f6eef7",
   "metadata": {},
   "outputs": [
    {
     "data": {
      "text/plain": [
       "array([[2, 3],\n",
       "       [7, 6],\n",
       "       [4, 9]])"
      ]
     },
     "execution_count": 27,
     "metadata": {},
     "output_type": "execute_result"
    }
   ],
   "source": [
    "# Interesting\n",
    "arr[:,-2:]"
   ]
  },
  {
   "cell_type": "markdown",
   "id": "28b30b4b",
   "metadata": {},
   "source": [
    "# 5. Iterating over a Numpy array"
   ]
  },
  {
   "cell_type": "code",
   "execution_count": 28,
   "id": "3bbeef7a",
   "metadata": {},
   "outputs": [
    {
     "data": {
      "text/plain": [
       "array([[1, 2, 3],\n",
       "       [5, 7, 6],\n",
       "       [2, 4, 9]])"
      ]
     },
     "execution_count": 28,
     "metadata": {},
     "output_type": "execute_result"
    }
   ],
   "source": [
    "arr"
   ]
  },
  {
   "cell_type": "code",
   "execution_count": 29,
   "id": "91623cfb",
   "metadata": {},
   "outputs": [
    {
     "name": "stdout",
     "output_type": "stream",
     "text": [
      "1\n",
      "2\n",
      "3\n",
      "5\n",
      "7\n",
      "6\n",
      "2\n",
      "4\n",
      "9\n"
     ]
    }
   ],
   "source": [
    "for x in np.nditer(arr):\n",
    "    print(x)"
   ]
  },
  {
   "cell_type": "code",
   "execution_count": 30,
   "id": "41d8cb74",
   "metadata": {},
   "outputs": [
    {
     "name": "stdout",
     "output_type": "stream",
     "text": [
      "1\n",
      "2\n",
      "3\n",
      "5\n",
      "7\n",
      "6\n",
      "2\n",
      "4\n",
      "9\n"
     ]
    }
   ],
   "source": [
    "for x in np.nditer(arr.T):\n",
    "    print(x)\n"
   ]
  },
  {
   "cell_type": "code",
   "execution_count": 31,
   "id": "dcc9f342",
   "metadata": {},
   "outputs": [
    {
     "name": "stdout",
     "output_type": "stream",
     "text": [
      "1\n",
      "2\n",
      "3\n",
      "5\n",
      "7\n",
      "6\n",
      "2\n",
      "4\n",
      "9\n"
     ]
    }
   ],
   "source": [
    "# Iterating in normal way\n",
    "for row in arr:\n",
    "    for x in row:\n",
    "        print(x)"
   ]
  },
  {
   "cell_type": "markdown",
   "id": "45eb5705",
   "metadata": {},
   "source": [
    "# 6. Linspace and arange"
   ]
  },
  {
   "cell_type": "markdown",
   "id": "ee92a73e",
   "metadata": {},
   "source": [
    "Linspace\n",
    "Linspace(low,high,count) generates 'evenly spaced' count no of elements b/w low and high. (BOTH INCLUSIVE)."
   ]
  },
  {
   "cell_type": "code",
   "execution_count": 32,
   "id": "286ed708",
   "metadata": {},
   "outputs": [
    {
     "name": "stdout",
     "output_type": "stream",
     "text": [
      "(5,)\n"
     ]
    },
    {
     "data": {
      "text/plain": [
       "array([  1.  ,  63.25, 125.5 , 187.75, 250.  ])"
      ]
     },
     "execution_count": 32,
     "metadata": {},
     "output_type": "execute_result"
    }
   ],
   "source": [
    "arr_lin=np.linspace(1,250,5)\n",
    "print(arr_lin.shape)\n",
    "arr_lin"
   ]
  },
  {
   "cell_type": "code",
   "execution_count": 33,
   "id": "85e91579",
   "metadata": {},
   "outputs": [
    {
     "name": "stdout",
     "output_type": "stream",
     "text": [
      "(8,)\n"
     ]
    },
    {
     "data": {
      "text/plain": [
       "array([10.        , 21.42857143, 32.85714286, 44.28571429, 55.71428571,\n",
       "       67.14285714, 78.57142857, 90.        ])"
      ]
     },
     "execution_count": 33,
     "metadata": {},
     "output_type": "execute_result"
    }
   ],
   "source": [
    "arr_lin=np.linspace(10,90,8)\n",
    "print(arr_lin.shape)\n",
    "arr_lin"
   ]
  },
  {
   "cell_type": "markdown",
   "id": "eaea1425",
   "metadata": {},
   "source": [
    "arange\n",
    "Generates elements from low to high in given step size. Starts with low and increases step size till high is reached (EXCLUSIVE)"
   ]
  },
  {
   "cell_type": "code",
   "execution_count": 34,
   "id": "87642646",
   "metadata": {},
   "outputs": [
    {
     "data": {
      "text/plain": [
       "array([ 1,  2,  3,  4,  5,  6,  7,  8,  9, 10, 11, 12, 13, 14, 15, 16, 17,\n",
       "       18, 19, 20, 21, 22, 23, 24, 25, 26, 27, 28, 29, 30, 31, 32, 33, 34,\n",
       "       35, 36, 37, 38, 39, 40, 41, 42, 43, 44, 45, 46, 47, 48, 49, 50, 51,\n",
       "       52, 53, 54, 55, 56, 57, 58, 59, 60, 61, 62, 63, 64, 65, 66, 67, 68,\n",
       "       69, 70, 71, 72, 73, 74, 75, 76, 77, 78, 79, 80, 81, 82, 83, 84, 85,\n",
       "       86, 87, 88, 89, 90, 91, 92, 93, 94, 95, 96, 97, 98, 99])"
      ]
     },
     "execution_count": 34,
     "metadata": {},
     "output_type": "execute_result"
    }
   ],
   "source": [
    "ar1=np.arange(1,100,1) # here third arg is the step size\n",
    "ar1"
   ]
  },
  {
   "cell_type": "code",
   "execution_count": 37,
   "id": "96396e9d",
   "metadata": {},
   "outputs": [
    {
     "data": {
      "text/plain": [
       "array([10,  8,  6,  4,  2])"
      ]
     },
     "execution_count": 37,
     "metadata": {},
     "output_type": "execute_result"
    }
   ],
   "source": [
    "ar2=np.arange(10,1,-2) #  in reverse order\n",
    "ar2"
   ]
  },
  {
   "cell_type": "markdown",
   "id": "98e56502",
   "metadata": {},
   "source": [
    "# 7. Generating Random Numbers/Arrays\n"
   ]
  },
  {
   "cell_type": "markdown",
   "id": "6859c836",
   "metadata": {},
   "source": [
    "Random integers\n"
   ]
  },
  {
   "cell_type": "code",
   "execution_count": 38,
   "id": "ac5e24f1",
   "metadata": {},
   "outputs": [
    {
     "data": {
      "text/plain": [
       "6"
      ]
     },
     "execution_count": 38,
     "metadata": {},
     "output_type": "execute_result"
    }
   ],
   "source": [
    "x=np.random.randint(11)\n",
    "x"
   ]
  },
  {
   "cell_type": "code",
   "execution_count": 40,
   "id": "d9cb9a99",
   "metadata": {},
   "outputs": [
    {
     "data": {
      "text/plain": [
       "20"
      ]
     },
     "execution_count": 40,
     "metadata": {},
     "output_type": "execute_result"
    }
   ],
   "source": [
    "x=np.random.randint(low=11,high=21)\n",
    "x"
   ]
  },
  {
   "cell_type": "code",
   "execution_count": 41,
   "id": "0dd882dd",
   "metadata": {},
   "outputs": [
    {
     "data": {
      "text/plain": [
       "array([[100,  17,  28],\n",
       "       [103,  88,  15]])"
      ]
     },
     "execution_count": 41,
     "metadata": {},
     "output_type": "execute_result"
    }
   ],
   "source": [
    "# Array of given size\n",
    "rand_arr=np.random.randint(11,121,(2,3))\n",
    "rand_arr"
   ]
  },
  {
   "cell_type": "markdown",
   "id": "75cbcf10",
   "metadata": {},
   "source": [
    "Random number between 0 and 1"
   ]
  },
  {
   "cell_type": "code",
   "execution_count": 42,
   "id": "254fa317",
   "metadata": {},
   "outputs": [
    {
     "data": {
      "text/plain": [
       "array([[0.30496491, 0.99562218, 0.09603499],\n",
       "       [0.62455418, 0.35751645, 0.60212805],\n",
       "       [0.28248245, 0.77176376, 0.54064049]])"
      ]
     },
     "execution_count": 42,
     "metadata": {},
     "output_type": "execute_result"
    }
   ],
   "source": [
    "# Random float b/w 0 and 1 [0,1)\n",
    "rand_float=np.random.random((3,3))\n",
    "rand_float"
   ]
  },
  {
   "cell_type": "markdown",
   "id": "739d617c",
   "metadata": {},
   "source": [
    "Random floats in a range\n"
   ]
  },
  {
   "cell_type": "code",
   "execution_count": 44,
   "id": "2b269a7f",
   "metadata": {},
   "outputs": [
    {
     "data": {
      "text/plain": [
       "array([[18.37396227, 19.75290093],\n",
       "       [12.49927342, 10.1181736 ],\n",
       "       [18.7129825 , 10.80318441]])"
      ]
     },
     "execution_count": 44,
     "metadata": {},
     "output_type": "execute_result"
    }
   ],
   "source": [
    "low=10\n",
    "high=20\n",
    "rand_float=np.random.random((3,2))\n",
    "rand_float=low+rand_float*(high-low)\n",
    "rand_float"
   ]
  },
  {
   "cell_type": "code",
   "execution_count": 45,
   "id": "6f340872",
   "metadata": {},
   "outputs": [
    {
     "name": "stdout",
     "output_type": "stream",
     "text": [
      "[[16.69586888 16.94218791 19.65933195]\n",
      " [12.84627666 18.96015118 11.42342973]]\n"
     ]
    }
   ],
   "source": [
    "# or we can use the random.uniform function\n",
    "rand_arr=np.random.uniform(low,high,(2,3))\n",
    "print(rand_arr)"
   ]
  },
  {
   "cell_type": "code",
   "execution_count": 46,
   "id": "b0553abc",
   "metadata": {},
   "outputs": [
    {
     "name": "stdout",
     "output_type": "stream",
     "text": [
      "0.30480881963174666 0.42514448016771555\n"
     ]
    },
    {
     "data": {
      "text/plain": [
       "array([[-0.61421114,  1.14874031],\n",
       "       [ 0.39918453, -0.47096077],\n",
       "       [ 0.90349366,  0.46260633]])"
      ]
     },
     "execution_count": 46,
     "metadata": {},
     "output_type": "execute_result"
    }
   ],
   "source": [
    "# Random values from standard normal dist\n",
    "rnd=np.random.randn(3,2)\n",
    "\n",
    "mu=np.mean(rnd)\n",
    "var=np.var(rnd)\n",
    "print(mu,var)\n",
    "rnd"
   ]
  },
  {
   "cell_type": "code",
   "execution_count": 47,
   "id": "05053ec3",
   "metadata": {},
   "outputs": [
    {
     "name": "stdout",
     "output_type": "stream",
     "text": [
      "1.9988165618683986 0.8134835549971523\n"
     ]
    },
    {
     "data": {
      "text/plain": [
       "array([[0.69998984, 1.00287607, 0.57143577],\n",
       "       [2.93964222, 2.5283687 , 1.57886618],\n",
       "       [2.76574536, 2.18757121, 1.15367338],\n",
       "       ...,\n",
       "       [1.89046849, 2.35988345, 1.54594821],\n",
       "       [2.6195926 , 1.67741138, 1.47911634],\n",
       "       [2.01110896, 2.77778063, 1.26939796]])"
      ]
     },
     "execution_count": 47,
     "metadata": {},
     "output_type": "execute_result"
    }
   ],
   "source": [
    "# A Specified mean(loc) and std dev(scale).\n",
    "rnd=np.random.normal(2,.9,(1000,3)) # last is shape first is mean and second is variance\n",
    "\n",
    "mu=np.mean(rnd)\n",
    "var=np.var(rnd)\n",
    "print(mu,var)\n",
    "rnd"
   ]
  },
  {
   "cell_type": "markdown",
   "id": "fce661e7",
   "metadata": {},
   "source": [
    "# 8. Common Matrix Operations"
   ]
  },
  {
   "cell_type": "code",
   "execution_count": 48,
   "id": "54a8dd06",
   "metadata": {},
   "outputs": [
    {
     "data": {
      "text/plain": [
       "array([[2, 3, 1],\n",
       "       [4, 5, 6],\n",
       "       [9, 7, 3]])"
      ]
     },
     "execution_count": 48,
     "metadata": {},
     "output_type": "execute_result"
    }
   ],
   "source": [
    "mat=np.array([[2,3,1],[4,5,6],[9,7,3]])\n",
    "mat"
   ]
  },
  {
   "cell_type": "markdown",
   "id": "073d14a5",
   "metadata": {},
   "source": [
    "Transpose of a matrix"
   ]
  },
  {
   "cell_type": "code",
   "execution_count": 50,
   "id": "63b85cf5",
   "metadata": {},
   "outputs": [
    {
     "data": {
      "text/plain": [
       "array([[2, 4, 9],\n",
       "       [3, 5, 7],\n",
       "       [1, 6, 3]])"
      ]
     },
     "execution_count": 50,
     "metadata": {},
     "output_type": "execute_result"
    }
   ],
   "source": [
    "#Transpose\n",
    "mat.T"
   ]
  },
  {
   "cell_type": "markdown",
   "id": "fcd92101",
   "metadata": {},
   "source": [
    "Multiplicative inverse (A^(-1))"
   ]
  },
  {
   "cell_type": "code",
   "execution_count": 52,
   "id": "1a0f1dec",
   "metadata": {},
   "outputs": [
    {
     "name": "stdout",
     "output_type": "stream",
     "text": [
      "[[-0.49090909 -0.03636364  0.23636364]\n",
      " [ 0.76363636 -0.05454545 -0.14545455]\n",
      " [-0.30909091  0.23636364 -0.03636364]]\n"
     ]
    }
   ],
   "source": [
    "mat_inv=np.linalg.inv(mat)\n",
    "print(mat_inv)"
   ]
  },
  {
   "cell_type": "markdown",
   "id": "96dd3ecc",
   "metadata": {},
   "source": [
    "Matrix multiplication"
   ]
  },
  {
   "cell_type": "code",
   "execution_count": 54,
   "id": "a1a1a6d0",
   "metadata": {},
   "outputs": [
    {
     "data": {
      "text/plain": [
       "array([[1.00000000e+00, 0.00000000e+00, 2.08166817e-17],\n",
       "       [2.22044605e-16, 1.00000000e+00, 1.11022302e-16],\n",
       "       [4.44089210e-16, 0.00000000e+00, 1.00000000e+00]])"
      ]
     },
     "execution_count": 54,
     "metadata": {},
     "output_type": "execute_result"
    }
   ],
   "source": [
    "# To check if inverse is right, just multiply it again with mat. Should return identity matrix\n",
    "np.matmul(mat,mat_inv)"
   ]
  },
  {
   "cell_type": "markdown",
   "id": "6b5d20e4",
   "metadata": {},
   "source": [
    "# 9. Arithmetic operations between matrices"
   ]
  },
  {
   "cell_type": "code",
   "execution_count": 55,
   "id": "a69cde81",
   "metadata": {},
   "outputs": [
    {
     "data": {
      "text/plain": [
       "array([[2, 3, 1],\n",
       "       [4, 5, 6],\n",
       "       [9, 7, 3]])"
      ]
     },
     "execution_count": 55,
     "metadata": {},
     "output_type": "execute_result"
    }
   ],
   "source": [
    "mat"
   ]
  },
  {
   "cell_type": "code",
   "execution_count": 56,
   "id": "4d25f9b5",
   "metadata": {},
   "outputs": [
    {
     "data": {
      "text/plain": [
       "array([[2, 4, 9],\n",
       "       [3, 5, 7],\n",
       "       [1, 6, 3]])"
      ]
     },
     "execution_count": 56,
     "metadata": {},
     "output_type": "execute_result"
    }
   ],
   "source": [
    "mat2=mat.T\n",
    "mat2"
   ]
  },
  {
   "cell_type": "code",
   "execution_count": 57,
   "id": "ce8bb29f",
   "metadata": {},
   "outputs": [
    {
     "data": {
      "text/plain": [
       "array([[ 4,  7, 10],\n",
       "       [ 7, 10, 13],\n",
       "       [10, 13,  6]])"
      ]
     },
     "execution_count": 57,
     "metadata": {},
     "output_type": "execute_result"
    }
   ],
   "source": [
    "# Addition\n",
    "mat+mat2"
   ]
  },
  {
   "cell_type": "code",
   "execution_count": 58,
   "id": "ab5b758b",
   "metadata": {},
   "outputs": [
    {
     "data": {
      "text/plain": [
       "array([[ 0, -1, -8],\n",
       "       [ 1,  0, -1],\n",
       "       [ 8,  1,  0]])"
      ]
     },
     "execution_count": 58,
     "metadata": {},
     "output_type": "execute_result"
    }
   ],
   "source": [
    "# Subtraction\n",
    "mat-mat2"
   ]
  },
  {
   "cell_type": "markdown",
   "id": "f1f11e19",
   "metadata": {},
   "source": [
    "that this is NOT MATRIX MULTIPLICATION. FOR That USE np.matmul()"
   ]
  },
  {
   "cell_type": "code",
   "execution_count": 59,
   "id": "32bf58ab",
   "metadata": {},
   "outputs": [
    {
     "data": {
      "text/plain": [
       "array([[ 4, 12,  9],\n",
       "       [12, 25, 42],\n",
       "       [ 9, 42,  9]])"
      ]
     },
     "execution_count": 59,
     "metadata": {},
     "output_type": "execute_result"
    }
   ],
   "source": [
    "mat*mat2 # Incorrect"
   ]
  },
  {
   "cell_type": "markdown",
   "id": "1c9f2fc0",
   "metadata": {},
   "source": [
    "This is correct matrix multiplication:"
   ]
  },
  {
   "cell_type": "code",
   "execution_count": 60,
   "id": "bebc365f",
   "metadata": {},
   "outputs": [
    {
     "data": {
      "text/plain": [
       "array([[ 14,  29,  42],\n",
       "       [ 29,  77,  89],\n",
       "       [ 42,  89, 139]])"
      ]
     },
     "execution_count": 60,
     "metadata": {},
     "output_type": "execute_result"
    }
   ],
   "source": [
    "np.matmul(mat,mat2)"
   ]
  },
  {
   "cell_type": "code",
   "execution_count": 61,
   "id": "135579af",
   "metadata": {},
   "outputs": [
    {
     "data": {
      "text/plain": [
       "array([[-0.85454545,  1.21818182,  0.05454545],\n",
       "       [-0.72727273,  1.90909091, -0.27272727],\n",
       "       [-3.96363636,  6.05454545, -1.23636364]])"
      ]
     },
     "execution_count": 61,
     "metadata": {},
     "output_type": "execute_result"
    }
   ],
   "source": [
    "# Division\n",
    "div=np.matmul(mat,np.linalg.inv(mat2))\n",
    "div"
   ]
  },
  {
   "cell_type": "markdown",
   "id": "497ffdb4",
   "metadata": {},
   "source": [
    "# 10. Arithmetic operations of matrix with a scalar (element-wise)"
   ]
  },
  {
   "cell_type": "code",
   "execution_count": 62,
   "id": "866bb714",
   "metadata": {},
   "outputs": [
    {
     "data": {
      "text/plain": [
       "array([10, 12, 14, 15, 17, 21])"
      ]
     },
     "execution_count": 62,
     "metadata": {},
     "output_type": "execute_result"
    }
   ],
   "source": [
    "arr=np.array([10,12,14,15,17,21])\n",
    "arr"
   ]
  },
  {
   "cell_type": "code",
   "execution_count": 63,
   "id": "6ebbd60f",
   "metadata": {},
   "outputs": [
    {
     "data": {
      "text/plain": [
       "array([20, 22, 24, 25, 27, 31])"
      ]
     },
     "execution_count": 63,
     "metadata": {},
     "output_type": "execute_result"
    }
   ],
   "source": [
    "# Addition\n",
    "arr2=10+arr \n",
    "# works the other way round also \n",
    "arr2"
   ]
  },
  {
   "cell_type": "code",
   "execution_count": 67,
   "id": "96fecd10",
   "metadata": {},
   "outputs": [
    {
     "data": {
      "text/plain": [
       "array([ 0,  2,  4,  5,  7, 11])"
      ]
     },
     "execution_count": 67,
     "metadata": {},
     "output_type": "execute_result"
    }
   ],
   "source": [
    "#sub\n",
    "arr_sub=arr-10 # works the other way round also\n",
    "arr_sub"
   ]
  },
  {
   "cell_type": "code",
   "execution_count": 65,
   "id": "df83e007",
   "metadata": {},
   "outputs": [
    {
     "data": {
      "text/plain": [
       "array([20, 24, 28, 30, 34, 42])"
      ]
     },
     "execution_count": 65,
     "metadata": {},
     "output_type": "execute_result"
    }
   ],
   "source": [
    "#mul\n",
    "arr_mul=arr*2\n",
    "arr_mul"
   ]
  },
  {
   "cell_type": "code",
   "execution_count": 66,
   "id": "7bf77f5f",
   "metadata": {},
   "outputs": [
    {
     "data": {
      "text/plain": [
       "array([ 5. ,  6. ,  7. ,  7.5,  8.5, 10.5])"
      ]
     },
     "execution_count": 66,
     "metadata": {},
     "output_type": "execute_result"
    }
   ],
   "source": [
    "#division\n",
    "arr_div=arr/2\n",
    "arr_div"
   ]
  },
  {
   "cell_type": "markdown",
   "id": "569325e0",
   "metadata": {},
   "source": [
    "Miscellaneous"
   ]
  },
  {
   "cell_type": "code",
   "execution_count": 68,
   "id": "c90f9267",
   "metadata": {},
   "outputs": [
    {
     "data": {
      "text/plain": [
       "array([100, 144, 196, 225, 289, 441])"
      ]
     },
     "execution_count": 68,
     "metadata": {},
     "output_type": "execute_result"
    }
   ],
   "source": [
    "arr*arr # element wise square\n"
   ]
  },
  {
   "cell_type": "code",
   "execution_count": 69,
   "id": "8d57d64e",
   "metadata": {},
   "outputs": [
    {
     "data": {
      "text/plain": [
       "array([20, 24, 28, 30, 34, 42])"
      ]
     },
     "execution_count": 69,
     "metadata": {},
     "output_type": "execute_result"
    }
   ],
   "source": [
    "arr+arr # Note this not appending, this is equilavent to 2*arr.\n"
   ]
  },
  {
   "cell_type": "markdown",
   "id": "6a6abde2",
   "metadata": {},
   "source": [
    "# 11. Mathematical Operation(s)"
   ]
  },
  {
   "cell_type": "markdown",
   "id": "ad3eaeac",
   "metadata": {},
   "source": [
    " some common mathematical operations in numpy"
   ]
  },
  {
   "cell_type": "code",
   "execution_count": 71,
   "id": "f8a3c857",
   "metadata": {},
   "outputs": [
    {
     "data": {
      "text/plain": [
       "1.0043016091968684"
      ]
     },
     "execution_count": 71,
     "metadata": {},
     "output_type": "execute_result"
    }
   ],
   "source": [
    "# Log\n",
    "x=2.73\n",
    "ans=np.log(x)\n",
    "ans"
   ]
  },
  {
   "cell_type": "code",
   "execution_count": 72,
   "id": "3fde97d8",
   "metadata": {},
   "outputs": [
    {
     "data": {
      "text/plain": [
       "array([0.69314718, 1.09861229, 1.38629436, 1.60943791, 1.79175947,\n",
       "       0.        , 1.00430161])"
      ]
     },
     "execution_count": 72,
     "metadata": {},
     "output_type": "execute_result"
    }
   ],
   "source": [
    "# On a  list (element wise)\n",
    "l=[2,3,4,5,6,1,2.73]\n",
    "np.log(l)"
   ]
  },
  {
   "cell_type": "code",
   "execution_count": 73,
   "id": "100e63a7",
   "metadata": {},
   "outputs": [
    {
     "name": "stdout",
     "output_type": "stream",
     "text": [
      "2.0\n",
      "\n",
      "\n",
      "\n"
     ]
    },
    {
     "data": {
      "text/plain": [
       "[1.0,\n",
       " 2.0,\n",
       " 3.0000000000000004,\n",
       " 4.0,\n",
       " 4.999999999999999,\n",
       " 6.0,\n",
       " 6.999999999999999,\n",
       " 7.999999999999998,\n",
       " 9.000000000000002]"
      ]
     },
     "execution_count": 73,
     "metadata": {},
     "output_type": "execute_result"
    }
   ],
   "source": [
    "# Expo\n",
    "x=np.log(2)\n",
    "ans=np.exp(x)\n",
    "print(ans)\n",
    "\n",
    "print('\\n\\n')\n",
    "\n",
    "#On a list\n",
    "l=[np.log(x) for x in range(1,10)]\n",
    "ans=[np.exp(i) for i in l]\n",
    "ans"
   ]
  },
  {
   "cell_type": "markdown",
   "id": "ecacda38",
   "metadata": {},
   "source": [
    "Sin , Cos and Tan"
   ]
  },
  {
   "cell_type": "code",
   "execution_count": 75,
   "id": "0ad0ac63",
   "metadata": {},
   "outputs": [
    {
     "name": "stdout",
     "output_type": "stream",
     "text": [
      "sins:  [array([1.22464680e-16, 1.00000000e+00, 8.66025404e-01, 7.07106781e-01])]\n",
      "cos:  [array([-1.00000000e+00,  6.12323400e-17,  5.00000000e-01,  7.07106781e-01])]\n",
      "tans:  [array([-1.22464680e-16,  1.63312394e+16,  1.73205081e+00,  1.00000000e+00])]\n"
     ]
    }
   ],
   "source": [
    "factor=[1,2,3,4]\n",
    "rads=[np.pi/i for i in factor]\n",
    "sins=[np.sin(rads)]\n",
    "cos=[np.cos(rads)]\n",
    "tans=[np.tan(rads)]\n",
    "\n",
    "print(\"sins: \",sins)\n",
    "print(\"cos: \",cos)\n",
    "print(\"tans: \",tans)"
   ]
  },
  {
   "cell_type": "markdown",
   "id": "cdf2c22f",
   "metadata": {},
   "source": [
    "# 12. Statistical Operation(s)"
   ]
  },
  {
   "cell_type": "markdown",
   "id": "73ec9f81",
   "metadata": {},
   "source": [
    "see some common statistical operations in numpy"
   ]
  },
  {
   "cell_type": "code",
   "execution_count": 76,
   "id": "cf29e073",
   "metadata": {},
   "outputs": [
    {
     "data": {
      "text/plain": [
       "array([[2, 3, 1],\n",
       "       [4, 5, 6],\n",
       "       [9, 7, 3]])"
      ]
     },
     "execution_count": 76,
     "metadata": {},
     "output_type": "execute_result"
    }
   ],
   "source": [
    "mat"
   ]
  },
  {
   "cell_type": "code",
   "execution_count": 77,
   "id": "37ce7182",
   "metadata": {},
   "outputs": [
    {
     "name": "stdout",
     "output_type": "stream",
     "text": [
      "1\n",
      "[2 3 1]\n",
      "[1 4 3]\n"
     ]
    }
   ],
   "source": [
    "# minimum\n",
    "print(mat.min())\n",
    "print(mat.min(axis=0))\n",
    "print(mat.min(axis=1))"
   ]
  },
  {
   "cell_type": "code",
   "execution_count": 78,
   "id": "a3cbe5ce",
   "metadata": {},
   "outputs": [
    {
     "name": "stdout",
     "output_type": "stream",
     "text": [
      "9\n",
      "[9 7 6]\n",
      "[3 6 9]\n"
     ]
    }
   ],
   "source": [
    "# maximum\n",
    "print(mat.max())\n",
    "print(mat.max(axis=0))\n",
    "print(mat.max(axis=1))"
   ]
  },
  {
   "cell_type": "code",
   "execution_count": 79,
   "id": "daff7909",
   "metadata": {},
   "outputs": [
    {
     "name": "stdout",
     "output_type": "stream",
     "text": [
      "4.444444444444445\n",
      "[5.         5.         3.33333333]\n",
      "[2.         5.         6.33333333]\n"
     ]
    }
   ],
   "source": [
    "# Mean\n",
    "print(mat.mean()) # of whole array.\n",
    "print(mat.mean(axis=0))\n",
    "print(mat.mean(axis=1))"
   ]
  },
  {
   "cell_type": "code",
   "execution_count": 80,
   "id": "6ad68ac9",
   "metadata": {},
   "outputs": [
    {
     "name": "stdout",
     "output_type": "stream",
     "text": [
      "2.4088314876309775\n",
      "[2.94392029 1.63299316 2.05480467]\n",
      "[0.81649658 0.81649658 2.49443826]\n"
     ]
    }
   ],
   "source": [
    "# Std Dev\n",
    "print(mat.std()) # of whole array.\n",
    "print(mat.std(axis=0))\n",
    "print(mat.std(axis=1))"
   ]
  },
  {
   "cell_type": "code",
   "execution_count": 81,
   "id": "e130918d",
   "metadata": {},
   "outputs": [
    {
     "name": "stdout",
     "output_type": "stream",
     "text": [
      "5.802469135802469\n",
      "[8.66666667 2.66666667 4.22222222]\n",
      "[0.66666667 0.66666667 6.22222222]\n"
     ]
    }
   ],
   "source": [
    "# Variance\n",
    "print(mat.var()) # of whole array.\n",
    "print(mat.var(axis=0))\n",
    "print(mat.var(axis=1))"
   ]
  },
  {
   "cell_type": "markdown",
   "id": "5dbe3b27",
   "metadata": {},
   "source": [
    "# 13. Concatenating numpy arrays"
   ]
  },
  {
   "cell_type": "code",
   "execution_count": 82,
   "id": "ec49ee51",
   "metadata": {},
   "outputs": [
    {
     "data": {
      "text/plain": [
       "array([[2, 3, 1],\n",
       "       [4, 5, 6],\n",
       "       [9, 7, 3]])"
      ]
     },
     "execution_count": 82,
     "metadata": {},
     "output_type": "execute_result"
    }
   ],
   "source": [
    "mat"
   ]
  },
  {
   "cell_type": "code",
   "execution_count": 83,
   "id": "f90cf7b3",
   "metadata": {},
   "outputs": [
    {
     "data": {
      "text/plain": [
       "array([[2, 4, 9],\n",
       "       [3, 5, 7],\n",
       "       [1, 6, 3]])"
      ]
     },
     "execution_count": 83,
     "metadata": {},
     "output_type": "execute_result"
    }
   ],
   "source": [
    "mat2"
   ]
  },
  {
   "cell_type": "code",
   "execution_count": 84,
   "id": "816536fd",
   "metadata": {},
   "outputs": [
    {
     "data": {
      "text/plain": [
       "array([[2, 4, 9, 2, 3, 1],\n",
       "       [3, 5, 7, 4, 5, 6],\n",
       "       [1, 6, 3, 9, 7, 3]])"
      ]
     },
     "execution_count": 84,
     "metadata": {},
     "output_type": "execute_result"
    }
   ],
   "source": [
    "result=np.concatenate((mat2,mat),axis=1)\n",
    "result"
   ]
  },
  {
   "cell_type": "code",
   "execution_count": 85,
   "id": "69ed61f2",
   "metadata": {},
   "outputs": [
    {
     "data": {
      "text/plain": [
       "array([[2, 4, 9],\n",
       "       [3, 5, 7],\n",
       "       [1, 6, 3],\n",
       "       [2, 3, 1],\n",
       "       [4, 5, 6],\n",
       "       [9, 7, 3]])"
      ]
     },
     "execution_count": 85,
     "metadata": {},
     "output_type": "execute_result"
    }
   ],
   "source": [
    "result=np.concatenate((mat2,mat),axis=0)\n",
    "result"
   ]
  },
  {
   "cell_type": "markdown",
   "id": "2aa9255d",
   "metadata": {},
   "source": [
    "Note that this can be achieved using 'hstack' and 'vstack' functions as well."
   ]
  },
  {
   "cell_type": "code",
   "execution_count": 86,
   "id": "e4a2c79d",
   "metadata": {},
   "outputs": [
    {
     "data": {
      "text/plain": [
       "array([[2, 4, 9, 2, 3, 1],\n",
       "       [3, 5, 7, 4, 5, 6],\n",
       "       [1, 6, 3, 9, 7, 3]])"
      ]
     },
     "execution_count": 86,
     "metadata": {},
     "output_type": "execute_result"
    }
   ],
   "source": [
    "np.hstack([mat2,mat])"
   ]
  },
  {
   "cell_type": "code",
   "execution_count": 87,
   "id": "39a59b5d",
   "metadata": {},
   "outputs": [
    {
     "data": {
      "text/plain": [
       "array([[2, 4, 9],\n",
       "       [3, 5, 7],\n",
       "       [1, 6, 3],\n",
       "       [2, 3, 1],\n",
       "       [4, 5, 6],\n",
       "       [9, 7, 3]])"
      ]
     },
     "execution_count": 87,
     "metadata": {},
     "output_type": "execute_result"
    }
   ],
   "source": [
    "np.vstack([mat2,mat])"
   ]
  },
  {
   "cell_type": "code",
   "execution_count": null,
   "id": "5b6c34cf",
   "metadata": {},
   "outputs": [],
   "source": []
  }
 ],
 "metadata": {
  "kernelspec": {
   "display_name": "Python 3 (ipykernel)",
   "language": "python",
   "name": "python3"
  },
  "language_info": {
   "codemirror_mode": {
    "name": "ipython",
    "version": 3
   },
   "file_extension": ".py",
   "mimetype": "text/x-python",
   "name": "python",
   "nbconvert_exporter": "python",
   "pygments_lexer": "ipython3",
   "version": "3.9.12"
  }
 },
 "nbformat": 4,
 "nbformat_minor": 5
}
